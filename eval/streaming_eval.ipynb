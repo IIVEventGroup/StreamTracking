{
 "cells": [
  {
   "cell_type": "code",
   "execution_count": 9,
   "metadata": {},
   "outputs": [],
   "source": [
    "import pickle\n",
    "import numpy as np\n",
    "\n",
    "results = pickle.load(open('/home/test4/code/EventBenchmark/lib/pytracking/pytracking/tracking_results_rt_raw/atom/default_000/airplane5.pkl', 'rb'))\n"
   ]
  },
  {
   "cell_type": "code",
   "execution_count": 3,
   "metadata": {},
   "outputs": [],
   "source": [
    "results_raw = results.get('results_raw', None)\n"
   ]
  },
  {
   "cell_type": "code",
   "execution_count": 12,
   "metadata": {},
   "outputs": [
    {
     "data": {
      "text/plain": [
       "dict_keys(['results_raw', 'out_timestamps', 'in_timestamps', 'runtime'])"
      ]
     },
     "execution_count": 12,
     "metadata": {},
     "output_type": "execute_result"
    }
   ],
   "source": [
    "results.keys()"
   ]
  },
  {
   "cell_type": "code",
   "execution_count": 26,
   "metadata": {},
   "outputs": [],
   "source": [
    "results_raw = results.get('results_raw', None)\n",
    "# timestamps = results['timestamps']\n",
    "gt_anno_t_path = '/home/test4/code/EventBenchmark/data/EventSOT/EventSOT500/EventSOT500/anno_t/airplane5.txt'\n",
    "gt_anno_t = np.loadtxt(gt_anno_t_path, delimiter=' ')\n",
    "# timestamps[0]=0\n",
    "# 读入GT 每行的格式是[timestamp, x1, y1, x2, y2]\n",
    "# 对于GT的每一行，找到对应的Prediction，逻辑是取Prediction中out_timestamp<=gt timestamp中的最后一个\n",
    "def find_last_pred(gt_t, pred_raw):\n",
    "    pred_timestamps = pred_raw['out_timestamps']\n",
    "    pred_timestamps[0] = 0\n",
    "    gt_t = gt_t*1e6\n",
    "    # print(gt_t, pred_timestamps[-1])\n",
    "    # assert abs(gt_t - pred_timestamps[-1]) < 100  # time unit:s\n",
    "    last_pred_idx = np.searchsorted(pred_timestamps, gt_t)-1\n",
    "    pred_results = pred_raw['results_raw']\n",
    "    pred_last_result = pred_results[last_pred_idx]\n",
    "    pred_last_time = pred_timestamps[last_pred_idx]\n",
    "    # print(gt_t, pred_last_time)\n",
    "    return pred_last_result\n",
    "pred_final = []\n",
    "for line in gt_anno_t:\n",
    "    gt_t = line[0]\n",
    "    gt_label = line[1:]\n",
    "    pred_label = find_last_pred(gt_t, results)\n",
    "    pred_bbox = pred_label\n",
    "    pred_final.append(pred_bbox)"
   ]
  },
  {
   "cell_type": "code",
   "execution_count": 27,
   "metadata": {},
   "outputs": [],
   "source": [
    "np.savetxt('output.txt',pred_final,fmt='%d',delimiter='\\t')"
   ]
  },
  {
   "attachments": {},
   "cell_type": "markdown",
   "metadata": {},
   "source": [
    "### version3.0"
   ]
  },
  {
   "cell_type": "code",
   "execution_count": 5,
   "metadata": {},
   "outputs": [],
   "source": [
    "import os\n",
    "import sys\n",
    "import importlib\n",
    "env_path = os.path.join('/home/test4/code/EventBenchmark/lib/pytracking/')\n",
    "if env_path not in sys.path:\n",
    "    sys.path.append(env_path)\n",
    "\n",
    "experiment_module = 'myexperiments'\n",
    "experiment_name = 'esot2_streaming_1'\n",
    "expr_module = importlib.import_module('pytracking.experiments.{}'.format(experiment_module))\n",
    "expr_func = getattr(expr_module,experiment_name)\n",
    "trackers, dataset, stream_setting = expr_func()"
   ]
  }
 ],
 "metadata": {
  "kernelspec": {
   "display_name": "ebench",
   "language": "python",
   "name": "python3"
  },
  "language_info": {
   "codemirror_mode": {
    "name": "ipython",
    "version": 3
   },
   "file_extension": ".py",
   "mimetype": "text/x-python",
   "name": "python",
   "nbconvert_exporter": "python",
   "pygments_lexer": "ipython3",
   "version": "3.8.13"
  },
  "orig_nbformat": 4
 },
 "nbformat": 4,
 "nbformat_minor": 2
}
