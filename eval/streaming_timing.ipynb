{
 "cells": [
  {
   "cell_type": "code",
   "execution_count": 2,
   "metadata": {},
   "outputs": [],
   "source": [
    "import argparse, pickle\n",
    "from os.path import join, isfile\n",
    "import numpy as np\n",
    "from tqdm import tqdm\n",
    "import sys\n",
    "import os\n",
    "import importlib\n",
    "from matplotlib import pyplot as plt\n"
   ]
  },
  {
   "cell_type": "code",
   "execution_count": null,
   "metadata": {},
   "outputs": [],
   "source": [
    "def calculate_mean_time(directory):\n",
    "    times = []\n",
    "    for filename in os.listdir(directory):\n",
    "        if filename.endswith(\"_time.txt\"):\n",
    "            filepath = os.path.join(directory, filename)\n",
    "            with open(filepath, 'r') as f:\n",
    "                for line in f:\n",
    "                    time = float(line.strip())\n",
    "                    if time > 1:\n",
    "                        continue\n",
    "                    times.append(time)\n",
    "    # print(np.min(times))\n",
    "    # times = times - np.min(times)\n",
    "    if len(times) == 0:\n",
    "        print(\"No time values found in the directory.\")\n",
    "    else:\n",
    "        mean_time = sum(times) / len(times)\n",
    "        print(\"Mean time:\", mean_time)\n",
    "        n, bins, patches = plt.hist(times, bins=100,range=(0,0.3),density=True)\n",
    "        plt.xlabel(\"Time values\")\n",
    "        plt.ylabel(\"Normalized frequency\")\n",
    "        plt.title(\"Distribution of time values\")\n",
    "        max_bin = np.argmax(n)\n",
    "        plt.axvline(bins[max_bin], color='red', linestyle='dashed', linewidth=1)\n",
    "        print(bins[max_bin])\n",
    "        plt.show()\n",
    "    return times"
   ]
  },
  {
   "cell_type": "code",
   "execution_count": 5,
   "metadata": {},
   "outputs": [
    {
     "ename": "FileNotFoundError",
     "evalue": "[Errno 2] No such file or directory: '/home/test4/code/EventBenchmark/lib/pytracking/pytracking/output/tracking_results_rt_raw/ostrack-Norm/trial6_ostrack256_aug1/14'",
     "output_type": "error",
     "traceback": [
      "\u001b[0;31m---------------------------------------------------------------------------\u001b[0m",
      "\u001b[0;31mFileNotFoundError\u001b[0m                         Traceback (most recent call last)",
      "\u001b[1;32m/home/test4/code/EventBenchmark/lib/pytracking/eval/streaming_timing.ipynb Cell 3\u001b[0m in \u001b[0;36m4\n\u001b[1;32m      <a href='vscode-notebook-cell://ssh-remote%2Bxijing/home/test4/code/EventBenchmark/lib/pytracking/eval/streaming_timing.ipynb#W2sdnNjb2RlLXJlbW90ZQ%3D%3D?line=1'>2</a>\u001b[0m times \u001b[39m=\u001b[39m []\n\u001b[1;32m      <a href='vscode-notebook-cell://ssh-remote%2Bxijing/home/test4/code/EventBenchmark/lib/pytracking/eval/streaming_timing.ipynb#W2sdnNjb2RlLXJlbW90ZQ%3D%3D?line=2'>3</a>\u001b[0m times_init \u001b[39m=\u001b[39m []\n\u001b[0;32m----> <a href='vscode-notebook-cell://ssh-remote%2Bxijing/home/test4/code/EventBenchmark/lib/pytracking/eval/streaming_timing.ipynb#W2sdnNjb2RlLXJlbW90ZQ%3D%3D?line=3'>4</a>\u001b[0m \u001b[39mfor\u001b[39;00m filename \u001b[39min\u001b[39;00m os\u001b[39m.\u001b[39mlistdir(directory):\n\u001b[1;32m      <a href='vscode-notebook-cell://ssh-remote%2Bxijing/home/test4/code/EventBenchmark/lib/pytracking/eval/streaming_timing.ipynb#W2sdnNjb2RlLXJlbW90ZQ%3D%3D?line=4'>5</a>\u001b[0m     \u001b[39mif\u001b[39;00m filename\u001b[39m.\u001b[39mendswith(\u001b[39m\"\u001b[39m\u001b[39mpkl\u001b[39m\u001b[39m\"\u001b[39m):\n\u001b[1;32m      <a href='vscode-notebook-cell://ssh-remote%2Bxijing/home/test4/code/EventBenchmark/lib/pytracking/eval/streaming_timing.ipynb#W2sdnNjb2RlLXJlbW90ZQ%3D%3D?line=5'>6</a>\u001b[0m         filepath \u001b[39m=\u001b[39m os\u001b[39m.\u001b[39mpath\u001b[39m.\u001b[39mjoin(directory, filename)\n",
      "\u001b[0;31mFileNotFoundError\u001b[0m: [Errno 2] No such file or directory: '/home/test4/code/EventBenchmark/lib/pytracking/pytracking/output/tracking_results_rt_raw/ostrack-Norm/trial6_ostrack256_aug1/14'"
     ]
    }
   ],
   "source": [
    "\n",
    "directory = '/home/test4/code/EventBenchmark/lib/pytracking/pytracking/output/tracking_results_rt_raw/ostrack-Norm/trial6_ostrack256_aug1/14'\n",
    "times = []\n",
    "times_init = []\n",
    "for filename in os.listdir(directory):\n",
    "    if filename.endswith(\"pkl\"):\n",
    "        filepath = os.path.join(directory, filename)\n",
    "        raw_result = pickle.load(open(filepath, 'rb'))\n",
    "        times_init.append(raw_result['runtime'][0]) \n",
    "        times.extend(raw_result['runtime'][1:]) \n",
    "# print(np.min(times))\n",
    "# times = times - np.min(times)\n",
    "if len(times) == 0:\n",
    "    print(\"No time values found in the directory.\")\n",
    "else:\n",
    "    mean_time = sum(times) / len(times) / 1e3\n",
    "    print(\"Mean time:\", mean_time)\n",
    "    mean_time_init = sum(times_init) / len(times_init) / 1e3\n",
    "    print(\"Mean time init:\", mean_time_init)\n",
    "    # n, bins, patches = plt.hist(times, bins=100,range=(0,0.3),density=True)\n",
    "    # plt.xlabel(\"Time values\")\n",
    "    # plt.ylabel(\"Normalized frequency\")\n",
    "    # plt.title(\"Distribution of time values\")\n",
    "    # max_bin = np.argmax(n)\n",
    "    # plt.axvline(bins[max_bin], color='red', linestyle='dashed', linewidth=1)\n",
    "    # print(bins[max_bin])\n",
    "    # plt.show()"
   ]
  },
  {
   "cell_type": "code",
   "execution_count": 32,
   "metadata": {},
   "outputs": [
    {
     "data": {
      "text/plain": [
       "[476901.0543823242,\n",
       " 521385.43128967285,\n",
       " 509914.1597747803,\n",
       " 530685.9016418457,\n",
       " 481458.4255218506,\n",
       " 481871.6049194336,\n",
       " 474590.539932251,\n",
       " 501969.3374633789,\n",
       " 545177.2212982178,\n",
       " 482503.89099121094,\n",
       " 498683.9294433594,\n",
       " 472040.17639160156,\n",
       " 483230.3524017334,\n",
       " 459949.4934082031,\n",
       " 472346.7826843262,\n",
       " 511389.73236083984,\n",
       " 478116.0354614258,\n",
       " 470795.1545715332,\n",
       " 490828.5140991211,\n",
       " 470906.97288513184,\n",
       " 498529.91104125977,\n",
       " 488266.9448852539,\n",
       " 467938.1847381592,\n",
       " 536708.5933685303,\n",
       " 567620.9926605225,\n",
       " 585882.6637268066,\n",
       " 513940.09590148926,\n",
       " 529728.1742095947,\n",
       " 487637.7582550049,\n",
       " 477306.1275482178,\n",
       " 458503.24630737305,\n",
       " 490002.8705596924,\n",
       " 490315.43731689453,\n",
       " 475455.28411865234,\n",
       " 481625.7953643799,\n",
       " 476458.3110809326,\n",
       " 498310.3275299072,\n",
       " 491478.44314575195,\n",
       " 477278.470993042,\n",
       " 497076.27296447754,\n",
       " 490790.36712646484,\n",
       " 528785.228729248,\n",
       " 501308.9179992676,\n",
       " 496383.6669921875,\n",
       " 472046.1368560791,\n",
       " 486148.8342285156,\n",
       " 505156.0401916504,\n",
       " 538286.9243621826,\n",
       " 535987.377166748,\n",
       " 467809.43870544434,\n",
       " 473136.66343688965,\n",
       " 479617.5956726074,\n",
       " 495383.73947143555]"
      ]
     },
     "execution_count": 32,
     "metadata": {},
     "output_type": "execute_result"
    }
   ],
   "source": [
    "times_init"
   ]
  },
  {
   "cell_type": "code",
   "execution_count": null,
   "metadata": {},
   "outputs": [],
   "source": [
    "target_dir = '/home/test4/code/EventBenchmark/lib/pytracking/pytracking/output/tracking_results_rt_raw/atom/default/18'\n"
   ]
  }
 ],
 "metadata": {
  "kernelspec": {
   "display_name": "ebench",
   "language": "python",
   "name": "python3"
  },
  "language_info": {
   "codemirror_mode": {
    "name": "ipython",
    "version": 3
   },
   "file_extension": ".py",
   "mimetype": "text/x-python",
   "name": "python",
   "nbconvert_exporter": "python",
   "pygments_lexer": "ipython3",
   "version": "3.8.13"
  },
  "orig_nbformat": 4
 },
 "nbformat": 4,
 "nbformat_minor": 2
}
