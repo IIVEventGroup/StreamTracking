{
 "cells": [
  {
   "cell_type": "code",
   "execution_count": 2,
   "metadata": {},
   "outputs": [
    {
     "name": "stderr",
     "output_type": "stream",
     "text": [
      "/usr/local/anaconda3/envs/ebench/lib/python3.8/site-packages/tqdm/auto.py:22: TqdmWarning: IProgress not found. Please update jupyter and ipywidgets. See https://ipywidgets.readthedocs.io/en/stable/user_install.html\n",
      "  from .autonotebook import tqdm as notebook_tqdm\n"
     ]
    }
   ],
   "source": [
    "%load_ext autoreload\n",
    "%autoreload 2\n",
    "%matplotlib inline\n",
    "import os\n",
    "import sys\n",
    "import matplotlib.pyplot as plt\n",
    "plt.rcParams['figure.figsize'] = [14, 8]\n",
    "\n",
    "sys.path.append('/home/test4/code/EventBenchmark/lib/pytracking')\n",
    "from pytracking.analysis.plot_results import plot_results, print_results, print_per_sequence_results\n",
    "from pytracking.evaluation import get_dataset, trackerlist"
   ]
  },
  {
   "cell_type": "code",
   "execution_count": null,
   "metadata": {},
   "outputs": [],
   "source": [
    "dataset_name = 'esot500'\n",
    "trackers = []\n",
    "trackers.extend(trackerlist(name='atom', parameter_name='default',\n",
    "                            run_ids=0, display_name='atom'))\n",
    "trackers.extend(trackerlist(name='dimp', parameter_name='dimp18', \n",
    "                            run_ids=0, display_name='dimp18'))\n",
    "trackers.extend(trackerlist(name='dimp', parameter_name='prdimp18', \n",
    "                            run_ids=0, display_name='prdimp18'))\n",
    "trackers.extend(trackerlist(name='kys', parameter_name='default', \n",
    "                            run_ids=0, display_name='kys'))\n",
    "trackers.extend(trackerlist(name='rts', parameter_name='rts50', \n",
    "                            run_ids=0, display_name='rts50'))\n",
    "trackers.extend(trackerlist(name='keep_track', parameter_name='default', \n",
    "                            run_ids=0, display_name='keep_track'))\n",
    "# trackers.extend(trackerlist(name='atom', parameter_name='esot500',\n",
    "#                             run_ids=0, display_name='atom'))\n",
    "dataset = get_dataset(dataset_name)\n",
    "print_results(trackers, dataset, dataset_name, merge_results=False, plot_types=('success', 'prec', 'norm_prec'),force_evaluation=True)"
   ]
  },
  {
   "cell_type": "code",
   "execution_count": null,
   "metadata": {},
   "outputs": [],
   "source": [
    "# Realtime\n",
    "# Mind that result_path is changed in local.py !!!\n",
    "dataset_name = 'esot500'\n",
    "trackers = []\n",
    "trackers.extend(trackerlist(name='atom', parameter_name='default',\n",
    "                            run_ids=0, display_name='atom'))\n",
    "trackers.extend(trackerlist(name='dimp', parameter_name='dimp18', \n",
    "                            run_ids=0, display_name='dimp18'))\n",
    "trackers.extend(trackerlist(name='dimp', parameter_name='prdimp18', \n",
    "                            run_ids=0, display_name='prdimp18'))\n",
    "trackers.extend(trackerlist(name='kys', parameter_name='default', \n",
    "                            run_ids=0, display_name='kys'))\n",
    "trackers.extend(trackerlist(name='rts', parameter_name='rts50', \n",
    "                            run_ids=0, display_name='rts50'))\n",
    "trackers.extend(trackerlist(name='keep_track', parameter_name='default', \n",
    "                            run_ids=0, display_name='keep_track'))\n",
    "# trackers.extend(trackerlist(name='atom', parameter_name='esot500',\n",
    "#                             run_ids=0, display_name='atom'))\n",
    "dataset = get_dataset(dataset_name)\n",
    "print_results(trackers, dataset, dataset_name, merge_results=True, plot_types=('success', 'prec', 'norm_prec'),force_evaluation=True)"
   ]
  },
  {
   "cell_type": "code",
   "execution_count": null,
   "metadata": {},
   "outputs": [],
   "source": [
    "# Realtime postKF forecaste results\n",
    "# Mind that result_path is changed in local.py !!!\n",
    "dataset_name = 'esot500'\n",
    "trackers = []\n",
    "# trackers.extend(trackerlist(name='atom', parameter_name='default',\n",
    "#                             run_ids=0, display_name='atom'))\n",
    "# trackers.extend(trackerlist(name='dimp', parameter_name='dimp18', \n",
    "#                             run_ids=0, display_name='dimp18'))\n",
    "# trackers.extend(trackerlist(name='dimp', parameter_name='prdimp18', \n",
    "#                             run_ids=0, display_name='prdimp18'))\n",
    "# trackers.extend(trackerlist(name='kys', parameter_name='default', \n",
    "#                             run_ids=0, display_name='kys'))\n",
    "# trackers.extend(trackerlist(name='rts', parameter_name='rts50', \n",
    "#                             run_ids=0, display_name='rts50'))\n",
    "trackers.extend(trackerlist(name='keep_track', parameter_name='default', \n",
    "                            run_ids=0, display_name='keep_track'))\n",
    "# trackers.extend(trackerlist(name='atom', parameter_name='esot500',\n",
    "#                             run_ids=0, display_name='atom'))\n",
    "dataset = get_dataset(dataset_name)\n",
    "print_results(trackers, dataset, dataset_name, merge_results=False, plot_types=('success', 'prec', 'norm_prec'),force_evaluation=True)"
   ]
  },
  {
   "cell_type": "code",
   "execution_count": null,
   "metadata": {},
   "outputs": [],
   "source": [
    "\n",
    "dataset_name = 'esoth'\n",
    "trackers = []\n",
    "trackers.extend(trackerlist(name='atom', parameter_name='default',\n",
    "                            run_ids=99, display_name='atom'))\n",
    "trackers.extend(trackerlist(name='dimp', parameter_name='dimp18', \n",
    "                            run_ids=99, display_name='dimp18'))\n",
    "trackers.extend(trackerlist(name='dimp', parameter_name='prdimp18', \n",
    "                            run_ids=99, display_name='prdimp18'))\n",
    "trackers.extend(trackerlist(name='kys', parameter_name='default', \n",
    "                            run_ids=99, display_name='kys'))\n",
    "trackers.extend(trackerlist(name='rts', parameter_name='rts50', \n",
    "                            run_ids=99, display_name='rts50'))\n",
    "trackers.extend(trackerlist(name='keep_track', parameter_name='default', \n",
    "                            run_ids=99, display_name='keep_track'))\n",
    "# trackers.extend(trackerlist(name='atom', parameter_name='esot500',\n",
    "#                             run_ids=0, display_name='atom'))\n",
    "dataset = get_dataset(dataset_name)\n",
    "print_results(trackers, dataset, dataset_name, merge_results=False, plot_types=('success', 'prec', 'norm_prec'),force_evaluation=True)"
   ]
  },
  {
   "cell_type": "code",
   "execution_count": null,
   "metadata": {},
   "outputs": [],
   "source": [
    "\n",
    "dataset_name = 'esotm'\n",
    "trackers = []\n",
    "trackers.extend(trackerlist(name='atom', parameter_name='default',\n",
    "                            run_ids=66, display_name='atom'))\n",
    "trackers.extend(trackerlist(name='dimp', parameter_name='dimp18', \n",
    "                            run_ids=66, display_name='dimp18'))\n",
    "trackers.extend(trackerlist(name='dimp', parameter_name='prdimp18', \n",
    "                            run_ids=66, display_name='prdimp18'))\n",
    "trackers.extend(trackerlist(name='kys', parameter_name='default', \n",
    "                            run_ids=66, display_name='kys'))\n",
    "trackers.extend(trackerlist(name='rts', parameter_name='rts50', \n",
    "                            run_ids=66, display_name='rts50'))\n",
    "trackers.extend(trackerlist(name='keep_track', parameter_name='default', \n",
    "                            run_ids=66, display_name='keep_track'))\n",
    "# trackers.extend(trackerlist(name='atom', parameter_name='esot500',\n",
    "#                             run_ids=0, display_name='atom'))\n",
    "dataset = get_dataset(dataset_name)\n",
    "print_results(trackers, dataset, dataset_name, merge_results=False, plot_types=('success', 'prec', 'norm_prec'),force_evaluation=True)"
   ]
  },
  {
   "cell_type": "code",
   "execution_count": null,
   "metadata": {},
   "outputs": [],
   "source": [
    "\n",
    "dataset_name = 'esotl'\n",
    "trackers = []\n",
    "trackers.extend(trackerlist(name='atom', parameter_name='default',\n",
    "                            run_ids=33, display_name='atom'))\n",
    "trackers.extend(trackerlist(name='dimp', parameter_name='dimp18', \n",
    "                            run_ids=33, display_name='dimp18'))\n",
    "trackers.extend(trackerlist(name='dimp', parameter_name='prdimp18', \n",
    "                            run_ids=33, display_name='prdimp18'))\n",
    "trackers.extend(trackerlist(name='kys', parameter_name='default', \n",
    "                            run_ids=33, display_name='kys'))\n",
    "trackers.extend(trackerlist(name='rts', parameter_name='rts50', \n",
    "                            run_ids=33, display_name='rts50'))\n",
    "trackers.extend(trackerlist(name='keep_track', parameter_name='default', \n",
    "                            run_ids=33, display_name='keep_track'))\n",
    "# trackers.extend(trackerlist(name='atom', parameter_name='esot500',\n",
    "#                             run_ids=0, display_name='atom'))\n",
    "dataset = get_dataset(dataset_name)\n",
    "print_results(trackers, dataset, dataset_name, merge_results=False, plot_types=('success', 'prec', 'norm_prec'),force_evaluation=True)"
   ]
  },
  {
   "attachments": {},
   "cell_type": "markdown",
   "metadata": {},
   "source": [
    "### FPS"
   ]
  },
  {
   "cell_type": "code",
   "execution_count": 14,
   "metadata": {},
   "outputs": [
    {
     "name": "stdout",
     "output_type": "stream",
     "text": [
      "Using subset:500 fps , 2 ms window for testing\n",
      "\n",
      "Reporting results over 32 / 32 sequences\n",
      "\n",
      "esot_500_2      | AUC        | OP50       | OP75       | Precision    | Norm Precision    |\n",
      "atom            | 35.84      | 39.43      | 22.68      | 43.62        | 41.19             |\n",
      "dimp18          | 45.07      | 50.60      | 26.22      | 56.87        | 50.93             |\n",
      "prdimp18        | 37.24      | 41.71      | 23.21      | 46.40        | 43.69             |\n",
      "kys             | 46.30      | 52.37      | 27.62      | 58.95        | 53.83             |\n",
      "rts50           | 40.38      | 44.40      | 21.79      | 50.40        | 43.96             |\n",
      "keep_track      | 47.05      | 53.39      | 26.32      | 59.05        | 53.46             |\n",
      "\n",
      "Using subset:250 fps , 2 ms window for testing\n",
      "\n",
      "Reporting results over 32 / 32 sequences\n",
      "\n",
      "esot_250_2      | AUC        | OP50       | OP75       | Precision    | Norm Precision    |\n",
      "atom            | 36.55      | 41.66      | 22.79      | 45.55        | 42.95             |\n",
      "dimp18          | 47.00      | 53.45      | 27.34      | 59.78        | 55.29             |\n",
      "prdimp18        | 38.60      | 42.75      | 22.98      | 48.09        | 44.70             |\n",
      "kys             | 48.22      | 53.86      | 28.59      | 61.57        | 56.09             |\n",
      "rts50           | 41.13      | 44.72      | 23.46      | 50.44        | 44.61             |\n",
      "keep_track      | 48.50      | 55.93      | 27.34      | 60.55        | 55.39             |\n",
      "\n",
      "Using subset:20 fps , 2 ms window for testing\n",
      "\n",
      "Reporting results over 32 / 32 sequences\n",
      "\n",
      "esot_20_2       | AUC        | OP50       | OP75       | Precision    | Norm Precision    |\n",
      "atom            | 42.26      | 47.37      | 24.70      | 52.80        | 47.84             |\n",
      "dimp18          | 48.19      | 56.04      | 27.65      | 61.29        | 56.15             |\n",
      "prdimp18        | 42.28      | 45.61      | 25.52      | 50.56        | 47.01             |\n",
      "kys             | 50.21      | 55.14      | 29.24      | 64.04        | 56.68             |\n",
      "rts50           | 43.44      | 47.02      | 24.83      | 50.79        | 45.22             |\n",
      "keep_track      | 45.22      | 49.76      | 25.31      | 55.66        | 50.19             |\n",
      "\n"
     ]
    }
   ],
   "source": [
    "# 2ms\n",
    "dataset_name = ('esot_500_2')\n",
    "trackers = []\n",
    "trackers.extend(trackerlist(name='atom', parameter_name='default',\n",
    "                            run_ids=0, display_name='atom'))\n",
    "trackers.extend(trackerlist(name='dimp', parameter_name='dimp18', \n",
    "                            run_ids=0, display_name='dimp18'))\n",
    "trackers.extend(trackerlist(name='dimp', parameter_name='prdimp18', \n",
    "                            run_ids=0, display_name='prdimp18'))\n",
    "trackers.extend(trackerlist(name='kys', parameter_name='default', \n",
    "                            run_ids=0, display_name='kys'))\n",
    "trackers.extend(trackerlist(name='rts', parameter_name='rts50', \n",
    "                            run_ids=0, display_name='rts50'))\n",
    "trackers.extend(trackerlist(name='keep_track', parameter_name='default', \n",
    "                            run_ids=0, display_name='keep_track'))\n",
    "# trackers.extend(trackerlist(name='atom', parameter_name='esot500',\n",
    "#                             run_ids=0, display_name='atom'))\n",
    "dataset = get_dataset(dataset_name)\n",
    "print_results(trackers, dataset, dataset_name, merge_results=False, plot_types=('success', 'prec', 'norm_prec'),force_evaluation=False)\n",
    "dataset_name = ('esot_250_2')\n",
    "dataset = get_dataset(dataset_name)\n",
    "print_results(trackers, dataset, dataset_name, merge_results=False, plot_types=('success', 'prec', 'norm_prec'),force_evaluation=False)\n",
    "dataset_name = ('esot_20_2')\n",
    "dataset = get_dataset(dataset_name)\n",
    "print_results(trackers, dataset, dataset_name, merge_results=False, plot_types=('success', 'prec', 'norm_prec'),force_evaluation=False)"
   ]
  },
  {
   "cell_type": "code",
   "execution_count": 9,
   "metadata": {},
   "outputs": [
    {
     "name": "stdout",
     "output_type": "stream",
     "text": [
      "Using subset:500 fps , 8 ms window for testing\n"
     ]
    },
    {
     "name": "stderr",
     "output_type": "stream",
     "text": [
      "100%|██████████| 32/32 [00:13<00:00,  2.41it/s]\n"
     ]
    },
    {
     "name": "stdout",
     "output_type": "stream",
     "text": [
      "\n",
      "\n",
      "Computed results over 32 / 32 sequences\n",
      "\n",
      "Reporting results over 32 / 32 sequences\n",
      "\n",
      "esot_500_8      | AUC        | OP50       | OP75       | Precision    | Norm Precision    |\n",
      "atom            | 41.35      | 49.10      | 26.61      | 52.65        | 49.74             |\n",
      "dimp18          | 54.88      | 63.69      | 34.55      | 70.35        | 64.94             |\n",
      "prdimp18        | 47.86      | 54.42      | 34.90      | 60.41        | 56.73             |\n",
      "kys             | 53.89      | 62.86      | 36.65      | 68.18        | 63.79             |\n",
      "rts50           | 50.74      | 57.22      | 34.09      | 61.30        | 55.20             |\n",
      "keep_track      | 61.14      | 72.65      | 41.44      | 77.46        | 70.77             |\n",
      "\n",
      "Using subset:250 fps , 8 ms window for testing\n"
     ]
    },
    {
     "name": "stderr",
     "output_type": "stream",
     "text": [
      "100%|██████████| 32/32 [00:09<00:00,  3.40it/s]\n"
     ]
    },
    {
     "name": "stdout",
     "output_type": "stream",
     "text": [
      "\n",
      "\n",
      "Computed results over 32 / 32 sequences\n",
      "\n",
      "Reporting results over 32 / 32 sequences\n",
      "\n",
      "esot_250_8      | AUC        | OP50       | OP75       | Precision    | Norm Precision    |\n",
      "atom            | 44.97      | 52.18      | 28.85      | 55.71        | 52.65             |\n",
      "dimp18          | 52.64      | 60.58      | 33.32      | 67.31        | 61.76             |\n",
      "prdimp18        | 50.77      | 58.41      | 36.19      | 64.96        | 60.49             |\n",
      "kys             | 56.16      | 65.58      | 37.89      | 72.43        | 66.73             |\n",
      "rts50           | 50.48      | 56.32      | 34.03      | 60.91        | 54.75             |\n",
      "keep_track      | 61.14      | 72.44      | 41.75      | 77.43        | 70.44             |\n",
      "\n",
      "Using subset:20 fps , 8 ms window for testing\n"
     ]
    },
    {
     "name": "stderr",
     "output_type": "stream",
     "text": [
      "100%|██████████| 32/32 [00:00<00:00, 70.36it/s]"
     ]
    },
    {
     "name": "stdout",
     "output_type": "stream",
     "text": [
      "\n",
      "\n",
      "Computed results over 32 / 32 sequences\n",
      "\n",
      "Reporting results over 32 / 32 sequences\n",
      "\n",
      "esot_20_8       | AUC        | OP50       | OP75       | Precision    | Norm Precision    |\n",
      "atom            | 50.59      | 59.11      | 31.64      | 64.87        | 58.12             |\n",
      "dimp18          | 57.36      | 67.17      | 36.60      | 73.85        | 67.53             |\n",
      "prdimp18        | 51.49      | 59.02      | 37.36      | 63.84        | 59.47             |\n",
      "kys             | 59.84      | 71.13      | 40.76      | 78.39        | 72.25             |\n",
      "rts50           | 53.86      | 59.86      | 34.12      | 62.98        | 56.28             |\n",
      "keep_track      | 56.60      | 66.30      | 39.34      | 69.19        | 63.03             |\n",
      "\n"
     ]
    },
    {
     "name": "stderr",
     "output_type": "stream",
     "text": [
      "\n"
     ]
    }
   ],
   "source": [
    "# 8ms\n",
    "trackers = []\n",
    "trackers.extend(trackerlist(name='atom', parameter_name='default',\n",
    "                            run_ids=0, display_name='atom'))\n",
    "trackers.extend(trackerlist(name='dimp', parameter_name='dimp18', \n",
    "                            run_ids=0, display_name='dimp18'))\n",
    "trackers.extend(trackerlist(name='dimp', parameter_name='prdimp18', \n",
    "                            run_ids=0, display_name='prdimp18'))\n",
    "trackers.extend(trackerlist(name='kys', parameter_name='default', \n",
    "                            run_ids=0, display_name='kys'))\n",
    "trackers.extend(trackerlist(name='rts', parameter_name='rts50', \n",
    "                            run_ids=0, display_name='rts50'))\n",
    "trackers.extend(trackerlist(name='keep_track', parameter_name='default', \n",
    "                            run_ids=0, display_name='keep_track'))\n",
    "# trackers.extend(trackerlist(name='atom', parameter_name='esot500',\n",
    "#                             run_ids=0, display_name='atom'))\n",
    "dataset_name = ('esot_500_8')\n",
    "dataset = get_dataset(dataset_name)\n",
    "print_results(trackers, dataset, dataset_name, merge_results=False, plot_types=('success', 'prec', 'norm_prec'),force_evaluation=False)\n",
    "dataset_name = ('esot_250_8')\n",
    "dataset = get_dataset(dataset_name)\n",
    "print_results(trackers, dataset, dataset_name, merge_results=False, plot_types=('success', 'prec', 'norm_prec'),force_evaluation=False)\n",
    "dataset_name = ('esot_20_8')\n",
    "dataset = get_dataset(dataset_name)\n",
    "print_results(trackers, dataset, dataset_name, merge_results=False, plot_types=('success', 'prec', 'norm_prec'),force_evaluation=False)"
   ]
  },
  {
   "cell_type": "code",
   "execution_count": 11,
   "metadata": {},
   "outputs": [
    {
     "name": "stdout",
     "output_type": "stream",
     "text": [
      "Using subset:500 fps , 20 ms window for testing\n"
     ]
    },
    {
     "name": "stderr",
     "output_type": "stream",
     "text": [
      "100%|██████████| 32/32 [00:14<00:00,  2.26it/s]\n"
     ]
    },
    {
     "name": "stdout",
     "output_type": "stream",
     "text": [
      "\n",
      "\n",
      "Computed results over 32 / 32 sequences\n",
      "\n",
      "Reporting results over 32 / 32 sequences\n",
      "\n",
      "esot_500_20      | AUC        | OP50       | OP75       | Precision    | Norm Precision    |\n",
      "atom             | 40.00      | 47.19      | 23.66      | 51.35        | 47.79             |\n",
      "dimp18           | 57.13      | 69.73      | 36.89      | 74.33        | 70.44             |\n",
      "prdimp18         | 58.27      | 69.05      | 42.25      | 74.87        | 70.57             |\n",
      "kys              | 57.79      | 69.86      | 38.96      | 75.43        | 70.98             |\n",
      "rts50            | 52.43      | 58.69      | 32.22      | 62.19        | 56.73             |\n",
      "keep_track       | 65.03      | 79.20      | 45.42      | 86.42        | 80.41             |\n",
      "\n",
      "Using subset:250 fps , 20 ms window for testing\n"
     ]
    },
    {
     "name": "stderr",
     "output_type": "stream",
     "text": [
      "100%|██████████| 32/32 [00:09<00:00,  3.39it/s]\n"
     ]
    },
    {
     "name": "stdout",
     "output_type": "stream",
     "text": [
      "\n",
      "\n",
      "Computed results over 32 / 32 sequences\n",
      "\n",
      "Reporting results over 32 / 32 sequences\n",
      "\n",
      "esot_250_20      | AUC        | OP50       | OP75       | Precision    | Norm Precision    |\n",
      "atom             | 47.85      | 57.03      | 28.46      | 62.48        | 58.16             |\n",
      "dimp18           | 58.96      | 71.47      | 37.65      | 77.62        | 72.26             |\n",
      "prdimp18         | 59.92      | 71.12      | 42.67      | 77.40        | 72.17             |\n",
      "kys              | 60.99      | 74.53      | 41.61      | 80.71        | 75.54             |\n",
      "rts50            | 49.45      | 53.93      | 28.99      | 58.99        | 51.48             |\n",
      "keep_track       | 65.37      | 80.28      | 45.93      | 86.37        | 80.77             |\n",
      "\n",
      "Using subset:20 fps , 20 ms window for testing\n"
     ]
    },
    {
     "name": "stderr",
     "output_type": "stream",
     "text": [
      "100%|██████████| 32/32 [00:00<00:00, 83.72it/s]"
     ]
    },
    {
     "name": "stdout",
     "output_type": "stream",
     "text": [
      "\n",
      "\n",
      "Computed results over 32 / 32 sequences\n",
      "\n",
      "Reporting results over 32 / 32 sequences\n",
      "\n",
      "esot_20_20      | AUC        | OP50       | OP75       | Precision    | Norm Precision    |\n",
      "atom            | 54.98      | 66.15      | 33.07      | 71.45        | 65.56             |\n",
      "dimp18          | 60.70      | 75.08      | 38.21      | 79.66        | 73.90             |\n",
      "prdimp18        | 58.78      | 68.58      | 42.78      | 75.02        | 69.49             |\n",
      "kys             | 60.79      | 73.87      | 40.45      | 80.08        | 73.52             |\n",
      "rts50           | 50.67      | 56.45      | 31.48      | 58.94        | 52.67             |\n",
      "keep_track      | 62.87      | 76.27      | 46.34      | 80.35        | 74.36             |\n",
      "\n"
     ]
    },
    {
     "name": "stderr",
     "output_type": "stream",
     "text": [
      "\n"
     ]
    }
   ],
   "source": [
    "# 20ms \n",
    "trackers = []\n",
    "trackers.extend(trackerlist(name='atom', parameter_name='default',\n",
    "                            run_ids=0, display_name='atom'))\n",
    "trackers.extend(trackerlist(name='dimp', parameter_name='dimp18', \n",
    "                            run_ids=0, display_name='dimp18'))\n",
    "trackers.extend(trackerlist(name='dimp', parameter_name='prdimp18', \n",
    "                            run_ids=0, display_name='prdimp18'))\n",
    "trackers.extend(trackerlist(name='kys', parameter_name='default', \n",
    "                            run_ids=0, display_name='kys'))\n",
    "trackers.extend(trackerlist(name='rts', parameter_name='rts50', \n",
    "                            run_ids=0, display_name='rts50'))\n",
    "trackers.extend(trackerlist(name='keep_track', parameter_name='default', \n",
    "                            run_ids=0, display_name='keep_track'))\n",
    "# trackers.extend(trackerlist(name='atom', parameter_name='esot500',\n",
    "#                             run_ids=0, display_name='atom'))\n",
    "dataset_name = ('esot_500_20')\n",
    "dataset = get_dataset(dataset_name)\n",
    "print_results(trackers, dataset, dataset_name, merge_results=False, plot_types=('success', 'prec', 'norm_prec'),force_evaluation=False)\n",
    "dataset_name = ('esot_250_20')\n",
    "dataset = get_dataset(dataset_name)\n",
    "print_results(trackers, dataset, dataset_name, merge_results=False, plot_types=('success', 'prec', 'norm_prec'),force_evaluation=False)\n",
    "dataset_name = ('esot_20_20')\n",
    "dataset = get_dataset(dataset_name)\n",
    "print_results(trackers, dataset, dataset_name, merge_results=False, plot_types=('success', 'prec', 'norm_prec'),force_evaluation=False)"
   ]
  },
  {
   "cell_type": "code",
   "execution_count": 12,
   "metadata": {},
   "outputs": [
    {
     "name": "stdout",
     "output_type": "stream",
     "text": [
      "Using subset:20 fps , 2 ms window for testing\n",
      "\n",
      "Reporting results over 32 / 32 sequences\n",
      "\n",
      "esot_20_2       | AUC        | OP50       | OP75       | Precision    | Norm Precision    |\n",
      "atom            | 42.26      | 47.37      | 24.70      | 52.80        | 47.84             |\n",
      "dimp18          | 48.19      | 56.04      | 27.65      | 61.29        | 56.15             |\n",
      "prdimp18        | 42.28      | 45.61      | 25.52      | 50.56        | 47.01             |\n",
      "kys             | 50.21      | 55.14      | 29.24      | 64.04        | 56.68             |\n",
      "rts50           | 43.44      | 47.02      | 24.83      | 50.79        | 45.22             |\n",
      "keep_track      | 45.22      | 49.76      | 25.31      | 55.66        | 50.19             |\n",
      "\n",
      "Using subset:20 fps , 8 ms window for testing\n"
     ]
    },
    {
     "name": "stderr",
     "output_type": "stream",
     "text": [
      "100%|██████████| 32/32 [00:00<00:00, 101.80it/s]"
     ]
    },
    {
     "name": "stdout",
     "output_type": "stream",
     "text": [
      "\n",
      "\n",
      "Computed results over 32 / 32 sequences\n",
      "\n",
      "Reporting results over 32 / 32 sequences\n",
      "\n",
      "esot_20_8       | AUC        | OP50       | OP75       | Precision    | Norm Precision    |\n",
      "atom            | 50.59      | 59.11      | 31.64      | 64.87        | 58.12             |\n",
      "dimp18          | 57.36      | 67.17      | 36.60      | 73.85        | 67.53             |\n",
      "prdimp18        | 51.49      | 59.02      | 37.36      | 63.84        | 59.47             |\n",
      "kys             | 59.84      | 71.13      | 40.76      | 78.39        | 72.25             |\n",
      "rts50           | 53.86      | 59.86      | 34.12      | 62.98        | 56.28             |\n",
      "keep_track      | 56.60      | 66.30      | 39.34      | 69.19        | 63.03             |\n",
      "\n",
      "Using subset:20 fps , 20 ms window for testing\n",
      "\n",
      "Reporting results over 32 / 32 sequences\n",
      "\n",
      "esot_20_20      | AUC        | OP50       | OP75       | Precision    | Norm Precision    |\n",
      "atom            | 54.98      | 66.15      | 33.07      | 71.45        | 65.56             |\n",
      "dimp18          | 60.70      | 75.08      | 38.21      | 79.66        | 73.90             |\n",
      "prdimp18        | 58.78      | 68.58      | 42.78      | 75.02        | 69.49             |\n",
      "kys             | 60.79      | 73.87      | 40.45      | 80.08        | 73.52             |\n",
      "rts50           | 50.67      | 56.45      | 31.48      | 58.94        | 52.67             |\n",
      "keep_track      | 62.87      | 76.27      | 46.34      | 80.35        | 74.36             |\n",
      "\n"
     ]
    },
    {
     "name": "stderr",
     "output_type": "stream",
     "text": [
      "\n"
     ]
    }
   ],
   "source": [
    "# 20 FPS \n",
    "trackers = []\n",
    "trackers.extend(trackerlist(name='atom', parameter_name='default',\n",
    "                            run_ids=0, display_name='atom'))\n",
    "trackers.extend(trackerlist(name='dimp', parameter_name='dimp18', \n",
    "                            run_ids=0, display_name='dimp18'))\n",
    "trackers.extend(trackerlist(name='dimp', parameter_name='prdimp18', \n",
    "                            run_ids=0, display_name='prdimp18'))\n",
    "trackers.extend(trackerlist(name='kys', parameter_name='default', \n",
    "                            run_ids=0, display_name='kys'))\n",
    "trackers.extend(trackerlist(name='rts', parameter_name='rts50', \n",
    "                            run_ids=0, display_name='rts50'))\n",
    "trackers.extend(trackerlist(name='keep_track', parameter_name='default', \n",
    "                            run_ids=0, display_name='keep_track'))\n",
    "# trackers.extend(trackerlist(name='atom', parameter_name='esot500',\n",
    "#                             run_ids=0, display_name='atom'))\n",
    "dataset_name = ('esot_20_2')\n",
    "dataset = get_dataset(dataset_name)\n",
    "print_results(trackers, dataset, dataset_name, merge_results=False, plot_types=('success', 'prec', 'norm_prec'),force_evaluation=False)\n",
    "dataset_name = ('esot_20_8')\n",
    "dataset = get_dataset(dataset_name)\n",
    "print_results(trackers, dataset, dataset_name, merge_results=False, plot_types=('success', 'prec', 'norm_prec'),force_evaluation=False)\n",
    "dataset_name = ('esot_20_20')\n",
    "dataset = get_dataset(dataset_name)\n",
    "print_results(trackers, dataset, dataset_name, merge_results=False, plot_types=('success', 'prec', 'norm_prec'),force_evaluation=False)"
   ]
  },
  {
   "cell_type": "code",
   "execution_count": 10,
   "metadata": {},
   "outputs": [
    {
     "name": "stdout",
     "output_type": "stream",
     "text": [
      "Using subset:500 fps , 8 ms window for testing\n"
     ]
    },
    {
     "name": "stderr",
     "output_type": "stream",
     "text": [
      "100%|██████████| 32/32 [00:25<00:00,  1.27it/s]\n"
     ]
    },
    {
     "name": "stdout",
     "output_type": "stream",
     "text": [
      "\n",
      "\n",
      "Computed results over 32 / 32 sequences\n",
      "\n",
      "Reporting results over 32 / 32 sequences\n",
      "\n",
      "esot_500_8       | AUC        | OP50       | OP75       | Precision    | Norm Precision    |\n",
      "atom_fe          | 46.36      | 55.07      | 24.05      | 58.82        | 53.32             |\n",
      "dimp18_fe        | 35.32      | 35.22      | 10.31      | 41.91        | 35.04             |\n",
      "prdimp18_fe      | 26.14      | 21.30      | 4.21       | 29.51        | 25.13             |\n",
      "kys_fe           | 54.16      | 63.74      | 37.25      | 68.80        | 64.69             |\n",
      "\n",
      "Using subset:250 fps , 8 ms window for testing\n"
     ]
    },
    {
     "name": "stderr",
     "output_type": "stream",
     "text": [
      "100%|██████████| 32/32 [00:15<00:00,  2.08it/s]\n"
     ]
    },
    {
     "name": "stdout",
     "output_type": "stream",
     "text": [
      "\n",
      "\n",
      "Computed results over 32 / 32 sequences\n",
      "\n",
      "Reporting results over 32 / 32 sequences\n",
      "\n",
      "esot_250_8       | AUC        | OP50       | OP75       | Precision    | Norm Precision    |\n",
      "atom_fe          | 45.59      | 54.31      | 24.10      | 58.22        | 52.87             |\n",
      "dimp18_fe        | 37.42      | 37.79      | 11.13      | 44.09        | 36.79             |\n",
      "prdimp18_fe      | 26.97      | 21.52      | 4.12       | 30.40        | 25.17             |\n",
      "kys_fe           | 55.65      | 65.67      | 38.00      | 71.25        | 66.38             |\n",
      "\n",
      "Using subset:20 fps , 8 ms window for testing\n"
     ]
    },
    {
     "name": "stderr",
     "output_type": "stream",
     "text": [
      "100%|██████████| 32/32 [00:00<00:00, 53.94it/s]\n"
     ]
    },
    {
     "name": "stdout",
     "output_type": "stream",
     "text": [
      "\n",
      "\n",
      "Computed results over 32 / 32 sequences\n",
      "\n",
      "Reporting results over 32 / 32 sequences\n",
      "\n",
      "esot_20_8        | AUC        | OP50       | OP75       | Precision    | Norm Precision    |\n",
      "atom_fe          | 49.40      | 58.94      | 26.54      | 63.24        | 57.00             |\n",
      "dimp18_fe        | 38.22      | 39.08      | 11.36      | 43.89        | 38.02             |\n",
      "prdimp18_fe      | 24.45      | 19.52      | 3.78       | 24.70        | 20.93             |\n",
      "kys_fe           | 59.19      | 71.02      | 39.85      | 76.89        | 70.80             |\n",
      "\n"
     ]
    }
   ],
   "source": [
    "# FE re-train\n",
    "# 8 ms\n",
    "trackers = []\n",
    "trackers.extend(trackerlist(name='atom', parameter_name='fe240',\n",
    "                            run_ids=range(3), display_name='atom_fe'))\n",
    "trackers.extend(trackerlist(name='dimp', parameter_name='dimp18_fe240', \n",
    "                            run_ids=range(3), display_name='dimp18_fe'))\n",
    "trackers.extend(trackerlist(name='dimp', parameter_name='prdimp18_fe240', \n",
    "                            run_ids=range(3), display_name='prdimp18_fe'))\n",
    "trackers.extend(trackerlist(name='kys', parameter_name='fe240', \n",
    "                            run_ids=range(3), display_name='kys_fe'))\n",
    "# trackers.extend(trackerlist(name='tomp', parameter_name='tomp_fe240', \n",
    "#                             run_ids=0, display_name='tomp_fe'))\n",
    "# trackers.extend(trackerlist(name='atom', parameter_name='esot500',\n",
    "#                             run_ids=0, display_name='atom'))\n",
    "dataset_name = ('esot_500_8')\n",
    "dataset = get_dataset(dataset_name)\n",
    "print_results(trackers, dataset, dataset_name, merge_results=True, plot_types=('success', 'prec', 'norm_prec'),force_evaluation=False)\n",
    "dataset_name = ('esot_250_8')\n",
    "dataset = get_dataset(dataset_name)\n",
    "print_results(trackers, dataset, dataset_name, merge_results=True, plot_types=('success', 'prec', 'norm_prec'),force_evaluation=False)\n",
    "dataset_name = ('esot_20_8')\n",
    "dataset = get_dataset(dataset_name)\n",
    "print_results(trackers, dataset, dataset_name, merge_results=True, plot_types=('success', 'prec', 'norm_prec'),force_evaluation=False)"
   ]
  },
  {
   "cell_type": "code",
   "execution_count": 15,
   "metadata": {},
   "outputs": [
    {
     "name": "stdout",
     "output_type": "stream",
     "text": [
      "Using subset:500 fps , 2 ms window for testing\n"
     ]
    },
    {
     "name": "stderr",
     "output_type": "stream",
     "text": [
      "100%|██████████| 32/32 [00:26<00:00,  1.23it/s]\n"
     ]
    },
    {
     "name": "stdout",
     "output_type": "stream",
     "text": [
      "\n",
      "\n",
      "Computed results over 32 / 32 sequences\n",
      "\n",
      "Reporting results over 32 / 32 sequences\n",
      "\n",
      "esot_500_2       | AUC        | OP50       | OP75       | Precision    | Norm Precision    |\n",
      "atom_fe          | 40.64      | 46.02      | 21.06      | 49.77        | 46.62             |\n",
      "dimp18_fe        | 23.60      | 20.95      | 5.48       | 20.44        | 18.86             |\n",
      "prdimp18_fe      | 20.28      | 16.98      | 3.97       | 14.87        | 14.80             |\n",
      "kys_fe           | 46.81      | 51.40      | 27.95      | 59.58        | 54.34             |\n",
      "\n",
      "Using subset:250 fps , 2 ms window for testing\n"
     ]
    },
    {
     "name": "stderr",
     "output_type": "stream",
     "text": [
      "100%|██████████| 32/32 [00:18<00:00,  1.77it/s]\n"
     ]
    },
    {
     "name": "stdout",
     "output_type": "stream",
     "text": [
      "\n",
      "\n",
      "Computed results over 32 / 32 sequences\n",
      "\n",
      "Reporting results over 32 / 32 sequences\n",
      "\n",
      "esot_250_2       | AUC        | OP50       | OP75       | Precision    | Norm Precision    |\n",
      "atom_fe          | 40.71      | 45.92      | 19.97      | 50.85        | 46.26             |\n",
      "dimp18_fe        | 23.93      | 21.04      | 5.46       | 20.68        | 18.95             |\n",
      "prdimp18_fe      | 20.27      | 16.95      | 3.98       | 14.94        | 14.85             |\n",
      "kys_fe           | 49.85      | 55.77      | 30.02      | 64.33        | 58.52             |\n",
      "\n",
      "Using subset:20 fps , 2 ms window for testing\n"
     ]
    },
    {
     "name": "stderr",
     "output_type": "stream",
     "text": [
      "100%|██████████| 32/32 [00:00<00:00, 45.74it/s]"
     ]
    },
    {
     "name": "stdout",
     "output_type": "stream",
     "text": [
      "\n",
      "\n",
      "Computed results over 32 / 32 sequences\n",
      "\n",
      "Reporting results over 32 / 32 sequences\n",
      "\n",
      "esot_20_2        | AUC        | OP50       | OP75       | Precision    | Norm Precision    |\n",
      "atom_fe          | 41.82      | 46.81      | 20.74      | 51.06        | 46.22             |\n",
      "dimp18_fe        | 23.72      | 20.60      | 5.32       | 19.94        | 18.35             |\n",
      "prdimp18_fe      | 20.34      | 16.80      | 4.07       | 14.45        | 14.35             |\n",
      "kys_fe           | 49.69      | 56.63      | 30.15      | 63.11        | 57.60             |\n",
      "\n"
     ]
    },
    {
     "name": "stderr",
     "output_type": "stream",
     "text": [
      "\n"
     ]
    }
   ],
   "source": [
    "# FE re-train\n",
    "# 2 ms\n",
    "trackers = []\n",
    "trackers.extend(trackerlist(name='atom', parameter_name='fe240',\n",
    "                            run_ids=range(3), display_name='atom_fe'))\n",
    "trackers.extend(trackerlist(name='dimp', parameter_name='dimp18_fe240', \n",
    "                            run_ids=range(3), display_name='dimp18_fe'))\n",
    "trackers.extend(trackerlist(name='dimp', parameter_name='prdimp18_fe240', \n",
    "                            run_ids=range(3), display_name='prdimp18_fe'))\n",
    "trackers.extend(trackerlist(name='kys', parameter_name='fe240', \n",
    "                            run_ids=range(3), display_name='kys_fe'))\n",
    "# trackers.extend(trackerlist(name='tomp', parameter_name='tomp_fe240', \n",
    "#                             run_ids=0, display_name='tomp_fe'))\n",
    "# trackers.extend(trackerlist(name='atom', parameter_name='esot500',\n",
    "#                             run_ids=0, display_name='atom'))\n",
    "dataset_name = ('esot_500_2')\n",
    "dataset = get_dataset(dataset_name)\n",
    "print_results(trackers, dataset, dataset_name, merge_results=True, plot_types=('success', 'prec', 'norm_prec'),force_evaluation=False)\n",
    "dataset_name = ('esot_250_2')\n",
    "dataset = get_dataset(dataset_name)\n",
    "print_results(trackers, dataset, dataset_name, merge_results=True, plot_types=('success', 'prec', 'norm_prec'),force_evaluation=False)\n",
    "dataset_name = ('esot_20_2')\n",
    "dataset = get_dataset(dataset_name)\n",
    "print_results(trackers, dataset, dataset_name, merge_results=True, plot_types=('success', 'prec', 'norm_prec'),force_evaluation=False)"
   ]
  },
  {
   "cell_type": "code",
   "execution_count": 17,
   "metadata": {},
   "outputs": [
    {
     "name": "stdout",
     "output_type": "stream",
     "text": [
      "Using subset:500 fps , 20 ms window for testing\n"
     ]
    },
    {
     "name": "stderr",
     "output_type": "stream",
     "text": [
      " 38%|███▊      | 12/32 [00:09<00:16,  1.23it/s]\n"
     ]
    },
    {
     "ename": "Exception",
     "evalue": "Result not found. /home/test4/code/EventBenchmark/lib/pytracking/pytracking/tracking_results//atom/fe240_000/car40_500_w20ms.txt",
     "output_type": "error",
     "traceback": [
      "\u001b[0;31m---------------------------------------------------------------------------\u001b[0m",
      "\u001b[0;31mException\u001b[0m                                 Traceback (most recent call last)",
      "\u001b[1;32m/home/test4/code/EventBenchmark/lib/pytracking/pytracking/analysis/analysis_results.ipynb Cell 15\u001b[0m in \u001b[0;36m1\n\u001b[1;32m     <a href='vscode-notebook-cell://ssh-remote%2Bxijing/home/test4/code/EventBenchmark/lib/pytracking/pytracking/analysis/analysis_results.ipynb#X25sdnNjb2RlLXJlbW90ZQ%3D%3D?line=15'>16</a>\u001b[0m dataset_name \u001b[39m=\u001b[39m (\u001b[39m'\u001b[39m\u001b[39mesot_500_20\u001b[39m\u001b[39m'\u001b[39m)\n\u001b[1;32m     <a href='vscode-notebook-cell://ssh-remote%2Bxijing/home/test4/code/EventBenchmark/lib/pytracking/pytracking/analysis/analysis_results.ipynb#X25sdnNjb2RlLXJlbW90ZQ%3D%3D?line=16'>17</a>\u001b[0m dataset \u001b[39m=\u001b[39m get_dataset(dataset_name)\n\u001b[0;32m---> <a href='vscode-notebook-cell://ssh-remote%2Bxijing/home/test4/code/EventBenchmark/lib/pytracking/pytracking/analysis/analysis_results.ipynb#X25sdnNjb2RlLXJlbW90ZQ%3D%3D?line=17'>18</a>\u001b[0m print_results(trackers, dataset, dataset_name, merge_results\u001b[39m=\u001b[39m\u001b[39mTrue\u001b[39;00m, plot_types\u001b[39m=\u001b[39m(\u001b[39m'\u001b[39m\u001b[39msuccess\u001b[39m\u001b[39m'\u001b[39m, \u001b[39m'\u001b[39m\u001b[39mprec\u001b[39m\u001b[39m'\u001b[39m, \u001b[39m'\u001b[39m\u001b[39mnorm_prec\u001b[39m\u001b[39m'\u001b[39m),force_evaluation\u001b[39m=\u001b[39m\u001b[39mFalse\u001b[39;00m)\n\u001b[1;32m     <a href='vscode-notebook-cell://ssh-remote%2Bxijing/home/test4/code/EventBenchmark/lib/pytracking/pytracking/analysis/analysis_results.ipynb#X25sdnNjb2RlLXJlbW90ZQ%3D%3D?line=18'>19</a>\u001b[0m dataset_name \u001b[39m=\u001b[39m (\u001b[39m'\u001b[39m\u001b[39mesot_250_20\u001b[39m\u001b[39m'\u001b[39m)\n\u001b[1;32m     <a href='vscode-notebook-cell://ssh-remote%2Bxijing/home/test4/code/EventBenchmark/lib/pytracking/pytracking/analysis/analysis_results.ipynb#X25sdnNjb2RlLXJlbW90ZQ%3D%3D?line=19'>20</a>\u001b[0m dataset \u001b[39m=\u001b[39m get_dataset(dataset_name)\n",
      "File \u001b[0;32m~/code/EventBenchmark/lib/pytracking/pytracking/analysis/plot_results.py:325\u001b[0m, in \u001b[0;36mprint_results\u001b[0;34m(trackers, dataset, report_name, merge_results, plot_types, **kwargs)\u001b[0m\n\u001b[1;32m    315\u001b[0m \u001b[39m\"\"\" Print the results for the given trackers in a formatted table\u001b[39;00m\n\u001b[1;32m    316\u001b[0m \u001b[39margs:\u001b[39;00m\n\u001b[1;32m    317\u001b[0m \u001b[39m    trackers - List of trackers to evaluate\u001b[39;00m\n\u001b[0;32m   (...)\u001b[0m\n\u001b[1;32m    322\u001b[0m \u001b[39m                'prec' (prints precision score), and 'norm_prec' (prints normalized precision score)\u001b[39;00m\n\u001b[1;32m    323\u001b[0m \u001b[39m\"\"\"\u001b[39;00m\n\u001b[1;32m    324\u001b[0m \u001b[39m# Load pre-computed results\u001b[39;00m\n\u001b[0;32m--> 325\u001b[0m eval_data \u001b[39m=\u001b[39m check_and_load_precomputed_results(trackers, dataset, report_name, \u001b[39m*\u001b[39;49m\u001b[39m*\u001b[39;49mkwargs)\n\u001b[1;32m    327\u001b[0m \u001b[39m# Merge results from multiple runs\u001b[39;00m\n\u001b[1;32m    328\u001b[0m \u001b[39mif\u001b[39;00m merge_results:\n",
      "File \u001b[0;32m~/code/EventBenchmark/lib/pytracking/pytracking/analysis/plot_results.py:184\u001b[0m, in \u001b[0;36mcheck_and_load_precomputed_results\u001b[0;34m(trackers, dataset, report_name, force_evaluation, **kwargs)\u001b[0m\n\u001b[1;32m    180\u001b[0m     eval_data \u001b[39m=\u001b[39m extract_results(trackers, dataset, report_name, \u001b[39m*\u001b[39m\u001b[39m*\u001b[39mkwargs)\n\u001b[1;32m    182\u001b[0m \u001b[39mif\u001b[39;00m \u001b[39mnot\u001b[39;00m check_eval_data_is_valid(eval_data, trackers, dataset):\n\u001b[1;32m    183\u001b[0m     \u001b[39m# print('Pre-computed evaluation data invalid. Re-computing results!')\u001b[39;00m\n\u001b[0;32m--> 184\u001b[0m     eval_data \u001b[39m=\u001b[39m extract_results(trackers, dataset, report_name, \u001b[39m*\u001b[39;49m\u001b[39m*\u001b[39;49mkwargs)\n\u001b[1;32m    185\u001b[0m \u001b[39melse\u001b[39;00m:\n\u001b[1;32m    186\u001b[0m     \u001b[39m# Update display names\u001b[39;00m\n\u001b[1;32m    187\u001b[0m     tracker_names \u001b[39m=\u001b[39m [{\u001b[39m'\u001b[39m\u001b[39mname\u001b[39m\u001b[39m'\u001b[39m: t\u001b[39m.\u001b[39mname, \u001b[39m'\u001b[39m\u001b[39mparam\u001b[39m\u001b[39m'\u001b[39m: t\u001b[39m.\u001b[39mparameter_name, \u001b[39m'\u001b[39m\u001b[39mrun_id\u001b[39m\u001b[39m'\u001b[39m: t\u001b[39m.\u001b[39mrun_id, \u001b[39m'\u001b[39m\u001b[39mdisp_name\u001b[39m\u001b[39m'\u001b[39m: t\u001b[39m.\u001b[39mdisplay_name}\n\u001b[1;32m    188\u001b[0m                      \u001b[39mfor\u001b[39;00m t \u001b[39min\u001b[39;00m trackers]\n",
      "File \u001b[0;32m~/code/EventBenchmark/lib/pytracking/pytracking/analysis/extract_results.py:144\u001b[0m, in \u001b[0;36mextract_results\u001b[0;34m(trackers, dataset, report_name, skip_missing_seq, plot_bin_gap, exclude_invalid_frames, verbose)\u001b[0m\n\u001b[1;32m    142\u001b[0m         \u001b[39mbreak\u001b[39;00m\n\u001b[1;32m    143\u001b[0m     \u001b[39melse\u001b[39;00m:\n\u001b[0;32m--> 144\u001b[0m         \u001b[39mraise\u001b[39;00m \u001b[39mException\u001b[39;00m(\u001b[39m'\u001b[39m\u001b[39mResult not found. \u001b[39m\u001b[39m{}\u001b[39;00m\u001b[39m'\u001b[39m\u001b[39m.\u001b[39mformat(results_path))\n\u001b[1;32m    146\u001b[0m \u001b[39m# Calculate measures\u001b[39;00m\n\u001b[1;32m    147\u001b[0m err_overlap, err_center, err_center_normalized, valid_frame \u001b[39m=\u001b[39m calc_seq_err_robust(\n\u001b[1;32m    148\u001b[0m     pred_bb, anno_bb, seq\u001b[39m.\u001b[39mdataset, target_visible)\n",
      "\u001b[0;31mException\u001b[0m: Result not found. /home/test4/code/EventBenchmark/lib/pytracking/pytracking/tracking_results//atom/fe240_000/car40_500_w20ms.txt"
     ]
    }
   ],
   "source": [
    "# FE re-train\n",
    "# 20 ms\n",
    "trackers = []\n",
    "trackers.extend(trackerlist(name='atom', parameter_name='fe240',\n",
    "                            run_ids=range(3), display_name='atom_fe'))\n",
    "trackers.extend(trackerlist(name='dimp', parameter_name='dimp18_fe240', \n",
    "                            run_ids=range(3), display_name='dimp18_fe'))\n",
    "trackers.extend(trackerlist(name='dimp', parameter_name='prdimp18_fe240', \n",
    "                            run_ids=range(3), display_name='prdimp18_fe'))\n",
    "trackers.extend(trackerlist(name='kys', parameter_name='fe240', \n",
    "                            run_ids=range(3), display_name='kys_fe'))\n",
    "# trackers.extend(trackerlist(name='tomp', parameter_name='tomp_fe240', \n",
    "#                             run_ids=0, display_name='tomp_fe'))\n",
    "# trackers.extend(trackerlist(name='atom', parameter_name='esot500',\n",
    "#                             run_ids=0, display_name='atom'))\n",
    "dataset_name = ('esot_500_20')\n",
    "dataset = get_dataset(dataset_name)\n",
    "print_results(trackers, dataset, dataset_name, merge_results=True, plot_types=('success', 'prec', 'norm_prec'),force_evaluation=False)\n",
    "dataset_name = ('esot_250_20')\n",
    "dataset = get_dataset(dataset_name)\n",
    "print_results(trackers, dataset, dataset_name, merge_results=True, plot_types=('success', 'prec', 'norm_prec'),force_evaluation=False)\n",
    "dataset_name = ('esot_20_20')\n",
    "dataset = get_dataset(dataset_name)\n",
    "print_results(trackers, dataset, dataset_name, merge_results=True, plot_types=('success', 'prec', 'norm_prec'),force_evaluation=False)"
   ]
  },
  {
   "attachments": {},
   "cell_type": "markdown",
   "metadata": {},
   "source": [
    "### ESOT2\n"
   ]
  },
  {
   "cell_type": "code",
   "execution_count": null,
   "metadata": {},
   "outputs": [],
   "source": [
    "# Awaiting results\n",
    "trackers = []\n",
    "trackers.extend(trackerlist(name='atom', parameter_name='default',\n",
    "                            run_ids=0, display_name='atom'))\n",
    "trackers.extend(trackerlist(name='dimp', parameter_name='dimp18', \n",
    "                            run_ids=0, display_name='dimp18'))\n",
    "trackers.extend(trackerlist(name='dimp', parameter_name='prdimp18', \n",
    "                            run_ids=0, display_name='prdimp18'))\n",
    "trackers.extend(trackerlist(name='kys', parameter_name='default', \n",
    "                            run_ids=0, display_name='kys'))\n",
    "trackers.extend(trackerlist(name='rts', parameter_name='rts50', \n",
    "                            run_ids=0, display_name='rts50'))\n",
    "trackers.extend(trackerlist(name='keep_track', parameter_name='default', \n",
    "                            run_ids=0, display_name='keep_track'))\n",
    "# trackers.extend(trackerlist(name='atom', parameter_name='esot500',\n",
    "#                             run_ids=0, display_name='atom'))\n",
    "dataset_name = ('esot2_default')\n",
    "dataset = get_dataset(dataset_name)\n",
    "print_results(trackers, dataset, dataset_name, merge_results=False, plot_types=('success', 'prec', 'norm_prec'),force_evaluation=True, exclude_invalid_frames=True)\n",
    "dataset_name = ('esot2_2_20')\n",
    "dataset = get_dataset(dataset_name)\n",
    "print_results(trackers, dataset, dataset_name, merge_results=False, plot_types=('success', 'prec', 'norm_prec'),force_evaluation=True, exclude_invalid_frames=True)\n",
    "dataset_name = ('esot2_5_20')\n",
    "dataset = get_dataset(dataset_name)\n",
    "print_results(trackers, dataset, dataset_name, merge_results=False, plot_types=('success', 'prec', 'norm_prec'),force_evaluation=True, exclude_invalid_frames=True)\n",
    "dataset_name = ('esot2_10_20')\n",
    "dataset = get_dataset(dataset_name)\n",
    "print_results(trackers, dataset, dataset_name, merge_results=False, plot_types=('success', 'prec', 'norm_prec'),force_evaluation=True, exclude_invalid_frames=True)"
   ]
  },
  {
   "cell_type": "code",
   "execution_count": null,
   "metadata": {},
   "outputs": [],
   "source": [
    "import os\n",
    "os.path.exists('/home/test4/code/EventBenchmark/lib/pytracking/pytracking/tracking_results_rt_final/atom/default_000/airplane5.txt')\n",
    "import numpy as np\n",
    "txt = np.loadtxt('/home/test4/code/EventBenchmark/lib/pytracking/pytracking/tracking_results_rt_final/atom/default_000/airplane5.txt')"
   ]
  },
  {
   "cell_type": "code",
   "execution_count": null,
   "metadata": {},
   "outputs": [],
   "source": [
    "dataset_name = 'fe240'\n",
    "trackers = []\n",
    "trackers.extend(trackerlist(name='atom', parameter_name='default',\n",
    "                            run_ids=0, display_name='atom'))\n",
    "trackers.extend(trackerlist(name='dimp', parameter_name='dimp18', \n",
    "                            run_ids=0, display_name='dimp18'))\n",
    "trackers.extend(trackerlist(name='dimp', parameter_name='prdimp18', \n",
    "                            run_ids=0, display_name='prdimp18'))\n",
    "trackers.extend(trackerlist(name='kys', parameter_name='default', \n",
    "                            run_ids=0, display_name='kys'))\n",
    "trackers.extend(trackerlist(name='rts', parameter_name='rts50', \n",
    "                            run_ids=0, display_name='rts50'))\n",
    "trackers.extend(trackerlist(name='keep_track', parameter_name='default', \n",
    "                            run_ids=0, display_name='keep_track'))\n",
    "dataset = get_dataset(dataset_name)\n",
    "print_results(trackers, dataset, dataset_name, merge_results=True, plot_types=('success', 'prec', 'norm_prec'))"
   ]
  }
 ],
 "metadata": {
  "kernelspec": {
   "display_name": "ebench",
   "language": "python",
   "name": "python3"
  },
  "language_info": {
   "codemirror_mode": {
    "name": "ipython",
    "version": 3
   },
   "file_extension": ".py",
   "mimetype": "text/x-python",
   "name": "python",
   "nbconvert_exporter": "python",
   "pygments_lexer": "ipython3",
   "version": "3.8.13"
  },
  "orig_nbformat": 4,
  "vscode": {
   "interpreter": {
    "hash": "17f5b4477bd794ec570b380a01920209adc96d3aecac4e031f99f3d2b867f343"
   }
  }
 },
 "nbformat": 4,
 "nbformat_minor": 2
}
