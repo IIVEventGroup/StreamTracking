{
 "cells": [
  {
   "cell_type": "code",
   "execution_count": 2,
   "metadata": {},
   "outputs": [],
   "source": [
    "import numpy as np\n",
    "import matplotlib.pyplot as plt\n"
   ]
  },
  {
   "cell_type": "code",
   "execution_count": 6,
   "metadata": {},
   "outputs": [
    {
     "name": "stdout",
     "output_type": "stream",
     "text": [
      "[[1.         0.95290228]\n",
      " [0.95290228 1.        ]]\n"
     ]
    },
    {
     "data": {
      "text/plain": [
       "0.6310006545530444"
      ]
     },
     "execution_count": 6,
     "metadata": {},
     "output_type": "execute_result"
    }
   ],
   "source": [
    "run0_500 = np.array([39.55, 42.21, 42.78, 37.68, 35.78, 46.03, 44.15, 46.81, 40.04, 46.71, 50.31])\n",
    "run1_500 = np.array([41.30, 41.21, 40.84, 38.07, 34.22, 46.93, 43.76, 44.42, 39.91, 46.42, 50.29])\n",
    "run2_500 = np.array([39.38, 41.86, 44.15, 37.80, 34.67, 47.75, 45.80, 43.79, 40.35, 46.11, 49.95])\n",
    "stack_500 = np.vstack((run0_500, run1_500, run2_500))\n",
    "rho = np.corrcoef(run1_500, run2_500)\n",
    "print(rho)\n",
    "np.mean(stack_500.std(axis=0))\n"
   ]
  },
  {
   "cell_type": "code",
   "execution_count": 9,
   "metadata": {},
   "outputs": [
    {
     "name": "stdout",
     "output_type": "stream",
     "text": [
      "[[1.         0.95026207]\n",
      " [0.95026207 1.        ]]\n"
     ]
    }
   ],
   "source": [
    "run0_20 = np.array([39.69,42.53,43,37.93,36.05,46.23,44.48,47.16,40.44,46.92,50.41])\n",
    "run1_20 = np.array([41.5,41.46,41.02,38.29,34.4,47.17,44.06,44.71,40.34,46.5,50.5])\n",
    "run2_20 = np.array([39.56,42.14,44.4,38.06,34.97,47.92,46.16,44,40.71,46.21,50.12])\n",
    "stack_200 = np.vstack((run0_20, run1_20, run2_20))\n",
    "rho = np.corrcoef(run2_20, run1_20)\n",
    "print(rho)"
   ]
  },
  {
   "cell_type": "code",
   "execution_count": 8,
   "metadata": {},
   "outputs": [
    {
     "data": {
      "text/plain": [
       "0.6463288720411374"
      ]
     },
     "execution_count": 8,
     "metadata": {},
     "output_type": "execute_result"
    }
   ],
   "source": [
    "np.mean(stack_200.std(axis=0))"
   ]
  },
  {
   "cell_type": "code",
   "execution_count": 17,
   "metadata": {},
   "outputs": [
    {
     "data": {
      "text/plain": [
       "0.8246574283917684"
      ]
     },
     "execution_count": 17,
     "metadata": {},
     "output_type": "execute_result"
    }
   ],
   "source": [
    "run0_2 = np.array([36.44, 30.20, 41.68, 21.89, 35.14, 43.64, 38.18, 37.67, 32.53, 36.07, 40.81])\n",
    "run1_2 = np.array([33.37, 28.50, 41.48, 19.43, 32.54, 41.81, 39.40, 39.54, 32.89, 35.67, 40.29])\n",
    "run2_2 = np.array([35.66, 28.48, 41.85, 23.55, 32.81, 44.52, 40.16, 37.90, 31.85, 35.27, 39.79])\n",
    "rho = np.corrcoef(run1_2, run2_2)\n",
    "stack_2 = np.vstack((run0_2, run1_2, run2_2))\n",
    "stack_2.mean(axis=0)\n",
    "np.mean(stack_2.std(axis=0))\n"
   ]
  },
  {
   "cell_type": "code",
   "execution_count": null,
   "metadata": {},
   "outputs": [],
   "source": [
    "import os\n",
    "import shutil\n",
    "\n",
    "source_dir = \"/media/group1/data/yangchu/EventSOT/EventSOT_2.1_annoting\"\n",
    "target_dir = \"/home/test4/code/EventBenchmark/lib/pytracking/data/EventSOT2/aedat4\"\n",
    "\n",
    "# Recursively iterate through the source directory\n",
    "for root, dirs, files in os.walk(source_dir):\n",
    "    for file in files:\n",
    "        if file.endswith(\".aedat\"):\n",
    "            # Construct the full path of the source file and the target file\n",
    "            source_file = os.path.join(root, file)\n",
    "            target_file = os.path.join(target_dir, file)\n",
    "            # Copy the file to the target directory\n",
    "            # shutil.copy(source_file, target_file)\n",
    "            break\n",
    "        break\n"
   ]
  }
 ],
 "metadata": {
  "kernelspec": {
   "display_name": "ebench",
   "language": "python",
   "name": "python3"
  },
  "language_info": {
   "codemirror_mode": {
    "name": "ipython",
    "version": 3
   },
   "file_extension": ".py",
   "mimetype": "text/x-python",
   "name": "python",
   "nbconvert_exporter": "python",
   "pygments_lexer": "ipython3",
   "version": "3.8.13"
  },
  "orig_nbformat": 4,
  "vscode": {
   "interpreter": {
    "hash": "17f5b4477bd794ec570b380a01920209adc96d3aecac4e031f99f3d2b867f343"
   }
  }
 },
 "nbformat": 4,
 "nbformat_minor": 2
}
