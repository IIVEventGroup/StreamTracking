{
 "cells": [
  {
   "cell_type": "code",
   "execution_count": null,
   "metadata": {},
   "outputs": [],
   "source": [
    "import os\n",
    "import shutil\n",
    "\n",
    "source_dir = \"/media/group1/data/yangchu/EventSOT/EventSOT_2.1_annoting\"\n",
    "target_dir = \"/home/test4/code/EventBenchmark/lib/pytracking/data/EventSOT2/aedat4\"\n",
    "\n",
    "# Recursively iterate through the source directory\n",
    "for root, dirs, files in os.walk(source_dir):\n",
    "    for file in files:\n",
    "        if file.endswith(\".aedat\"):\n",
    "            # Construct the full path of the source file and the target file\n",
    "            source_file = os.path.join(root, file)\n",
    "            target_file = os.path.join(target_dir, file)\n",
    "            # Copy the file to the target directory\n",
    "            # shutil.copy(source_file, target_file)\n",
    "            break\n",
    "        break\n"
   ]
  },
  {
   "cell_type": "code",
   "execution_count": null,
   "metadata": {},
   "outputs": [],
   "source": [
    "import os\n",
    "import matplotlib.pyplot as plt\n",
    "import numpy as np\n",
    "\n",
    "def calculate_mean_time(directory):\n",
    "    times = []\n",
    "    for filename in os.listdir(directory):\n",
    "        if filename.endswith(\"_time.txt\"):\n",
    "            filepath = os.path.join(directory, filename)\n",
    "            with open(filepath, 'r') as f:\n",
    "                for line in f:\n",
    "                    time = float(line.strip())\n",
    "                    if time > 1:\n",
    "                        continue\n",
    "                    times.append(time)\n",
    "    # print(np.min(times))\n",
    "    # times = times - np.min(times)\n",
    "    if len(times) == 0:\n",
    "        print(\"No time values found in the directory.\")\n",
    "    else:\n",
    "        mean_time = sum(times) / len(times)\n",
    "        print(\"Mean time:\", mean_time)\n",
    "        n, bins, patches = plt.hist(times, bins=100,range=(0,0.3),density=True)\n",
    "        plt.xlabel(\"Time values\")\n",
    "        plt.ylabel(\"Normalized frequency\")\n",
    "        plt.title(\"Distribution of time values\")\n",
    "        max_bin = np.argmax(n)\n",
    "        plt.axvline(bins[max_bin], color='red', linestyle='dashed', linewidth=1)\n",
    "        print(bins[max_bin])\n",
    "        plt.show()\n",
    "    return times\n",
    "\n",
    "times = calculate_mean_time(\"pytracking/output/tracking_results/tomp/tomp50_000\")"
   ]
  },
  {
   "cell_type": "code",
   "execution_count": 1,
   "metadata": {},
   "outputs": [],
   "source": [
    "x, y, w, h = 174.6346, 199.3567, 58.1147, 44.4432"
   ]
  },
  {
   "cell_type": "code",
   "execution_count": 2,
   "metadata": {},
   "outputs": [],
   "source": [
    "x = x/346\n",
    "y = y/260\n",
    "w = w/346\n",
    "h = h/260\n",
    "r = [x+w/2, y+h/2, w, h]"
   ]
  },
  {
   "cell_type": "code",
   "execution_count": 3,
   "metadata": {},
   "outputs": [
    {
     "data": {
      "text/plain": [
       "[0.5887050578034682,\n",
       " 0.8522242307692307,\n",
       " 0.16796156069364163,\n",
       " 0.1709353846153846]"
      ]
     },
     "execution_count": 3,
     "metadata": {},
     "output_type": "execute_result"
    }
   ],
   "source": [
    "r"
   ]
  }
 ],
 "metadata": {
  "kernelspec": {
   "display_name": "ebench",
   "language": "python",
   "name": "python3"
  },
  "language_info": {
   "codemirror_mode": {
    "name": "ipython",
    "version": 3
   },
   "file_extension": ".py",
   "mimetype": "text/x-python",
   "name": "python",
   "nbconvert_exporter": "python",
   "pygments_lexer": "ipython3",
   "version": "3.8.13"
  },
  "orig_nbformat": 4,
  "vscode": {
   "interpreter": {
    "hash": "17f5b4477bd794ec570b380a01920209adc96d3aecac4e031f99f3d2b867f343"
   }
  }
 },
 "nbformat": 4,
 "nbformat_minor": 2
}
